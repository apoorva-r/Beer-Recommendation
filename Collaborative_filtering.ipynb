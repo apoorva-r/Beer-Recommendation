{
 "cells": [
  {
   "cell_type": "markdown",
   "metadata": {},
   "source": [
    "# Beer Recommender System using Collaborative Filtering \n",
    "\n",
    "The **goal** of this project was to create a recommender system that will take a beer name as an input and return the top N recommendations based on item similiarity. Content based recommendations was explored in a different notebook but the goal was to return recommendations that are varied and not just more of the same (which is what the content-base recommender would do). For example, if I like IPA beers I want to also explore non-IPA beers that may have similar charteristics but are different enough to be categorized as a different class of beer. \n",
    "  \n",
    "The Data:\n",
    "* 56 subcategories of beer\n",
    "* 4964 unique beers\n",
    "* ~88K unique users\n",
    "* ~1.4M user-review pairings\n",
    "\n",
    "Data was scraped from a popular beer review website: https://www.beeradvocate.com/\n",
    "  \n",
    "\n",
    "Main Tools:   \n",
    "Surprise Library - http://surpriselib.com/  \n",
    "scikitleran: https://scikit-learn.org/stable/"
   ]
  },
  {
   "cell_type": "markdown",
   "metadata": {},
   "source": [
    "NOTE: some of the below functions and code descriptions were taken directly from the Surprise Library Documentation\n",
    "\n",
    "---"
   ]
  },
  {
   "cell_type": "code",
   "execution_count": 1,
   "metadata": {},
   "outputs": [
    {
     "name": "stderr",
     "output_type": "stream",
     "text": [
      "[nltk_data] Downloading package stopwords to\n",
      "[nltk_data]     /Users/manjukiran/nltk_data...\n",
      "[nltk_data]   Package stopwords is already up-to-date!\n",
      "[nltk_data] Downloading package punkt to\n",
      "[nltk_data]     /Users/manjukiran/nltk_data...\n",
      "[nltk_data]   Package punkt is already up-to-date!\n"
     ]
    }
   ],
   "source": [
    "import sys\n",
    "import pandas as pd\n",
    "import numpy as np\n",
    "import re\n",
    "import csv\n",
    "import unicodedata\n",
    "import sys\n",
    "import time\n",
    "import pickle\n",
    "import copy\n",
    "import gzip\n",
    "\n",
    "import nltk\n",
    "nltk.download('stopwords')\n",
    "nltk.download('punkt')\n",
    "\n",
    "from collections import defaultdict\n",
    "\n",
    "from surprise import SVD, KNNBasic, NMF\n",
    "from surprise import Dataset\n",
    "from surprise import Reader\n",
    "from surprise import accuracy\n",
    "from surprise import KNNBaseline, SVD\n",
    "from surprise import get_dataset_dir\n",
    "from surprise.model_selection import KFold\n",
    "from surprise.model_selection import cross_validate\n",
    "from surprise.model_selection import train_test_split\n",
    "from surprise.model_selection import GridSearchCV\n",
    "\n",
    "from sklearn.preprocessing import StandardScaler\n",
    "from sklearn.preprocessing import Normalizer\n",
    "from sklearn.decomposition import TruncatedSVD\n",
    "\n",
    "from scipy import spatial\n",
    "\n",
    "import matplotlib.pyplot as plt\n",
    "import seaborn as sns\n",
    "%matplotlib inline\n",
    "\n",
    "import warnings\n",
    "warnings.filterwarnings(\"ignore\")"
   ]
  },
  {
   "cell_type": "markdown",
   "metadata": {},
   "source": [
    "---\n",
    "#### Load user reviews data\n",
    "\n",
    "Beer and User Review pairings were stored on a MONGODB database hosted on AWS. For the purpose of this notebook, the data was pulled from AWS and stored as a dataframe object on a local machine. "
   ]
  },
  {
   "cell_type": "code",
   "execution_count": 2,
   "metadata": {},
   "outputs": [],
   "source": [
    "from nltk.corpus import stopwords\n",
    "\n",
    "with gzip.open('Beeradvocate.txt.gz', 'r') as f:\n",
    "    rb_file = f.readlines()\n"
   ]
  },
  {
   "cell_type": "code",
   "execution_count": 3,
   "metadata": {},
   "outputs": [],
   "source": [
    "data = []\n",
    "row_out = []\n",
    "stop = stopwords.words('english')\n",
    "\n",
    "for i in rb_file:\n",
    "    row = i.decode('utf-8', errors = 'replace')\n",
    "    #print(row)\n",
    "    if row == '\\n':\n",
    "        data.append(row_out)\n",
    "        row_out = []\n",
    "        continue\n",
    "    cat, field = row.split(\":\", 1)\n",
    "    #remove leading white spaces\n",
    "    field = field.rstrip()\n",
    "    if cat == 'review/text':\n",
    "        #remove tab and newspace characters\n",
    "        field = field.replace('\\t', ' ')\n",
    "        field = field.replace('\\n', '')\n",
    "        \n",
    "        #remove punctuation and spaces\n",
    "        field = re.sub(r'[^\\w\\s]','',field) #slower but effective\n",
    "        field = field.lower()\n",
    "    row_out.append(field)"
   ]
  },
  {
   "cell_type": "code",
   "execution_count": 4,
   "metadata": {},
   "outputs": [],
   "source": [
    "user_reviews_df = pd.DataFrame(data)"
   ]
  },
  {
   "cell_type": "code",
   "execution_count": 5,
   "metadata": {},
   "outputs": [],
   "source": [
    "user_reviews_df.columns = ['beer_name', 'beer_Id', 'beer_brewer', 'beer_ABV', 'beer_style', \n",
    "                'review_appearance', 'review_aroma', 'review_palate', 'review_taste', \n",
    "                'rating', 'review_time', 'user', 'review_text']\n"
   ]
  },
  {
   "cell_type": "code",
   "execution_count": 6,
   "metadata": {},
   "outputs": [],
   "source": [
    "user_reviews_df.drop(['beer_Id', 'beer_brewer', 'beer_ABV', 'beer_style', \n",
    "                'review_appearance', 'review_aroma', 'review_palate', 'review_taste','review_time','review_text'], axis=1, inplace=True)"
   ]
  },
  {
   "cell_type": "code",
   "execution_count": 7,
   "metadata": {},
   "outputs": [
    {
     "data": {
      "text/plain": [
       "Index(['beer_name', 'rating', 'user'], dtype='object')"
      ]
     },
     "execution_count": 7,
     "metadata": {},
     "output_type": "execute_result"
    }
   ],
   "source": [
    "user_reviews_df.columns"
   ]
  },
  {
   "cell_type": "markdown",
   "metadata": {},
   "source": [
    "#### A little bit of EDA and Cleaning"
   ]
  },
  {
   "cell_type": "code",
   "execution_count": 3,
   "metadata": {},
   "outputs": [
    {
     "name": "stdout",
     "output_type": "stream",
     "text": [
      "<class 'pandas.core.frame.DataFrame'>\n",
      "Int64Index: 1427301 entries, 0 to 188328\n",
      "Data columns (total 3 columns):\n",
      "beer_name    1427301 non-null object\n",
      "user         1427301 non-null object\n",
      "rating       1427301 non-null float64\n",
      "dtypes: float64(1), object(2)\n",
      "memory usage: 43.6+ MB\n"
     ]
    }
   ],
   "source": [
    "user_reviews_df.info()"
   ]
  },
  {
   "cell_type": "code",
   "execution_count": 4,
   "metadata": {},
   "outputs": [
    {
     "data": {
      "text/html": [
       "<div>\n",
       "<style scoped>\n",
       "    .dataframe tbody tr th:only-of-type {\n",
       "        vertical-align: middle;\n",
       "    }\n",
       "\n",
       "    .dataframe tbody tr th {\n",
       "        vertical-align: top;\n",
       "    }\n",
       "\n",
       "    .dataframe thead th {\n",
       "        text-align: right;\n",
       "    }\n",
       "</style>\n",
       "<table border=\"1\" class=\"dataframe\">\n",
       "  <thead>\n",
       "    <tr style=\"text-align: right;\">\n",
       "      <th></th>\n",
       "      <th>beer_name</th>\n",
       "      <th>user</th>\n",
       "      <th>rating</th>\n",
       "    </tr>\n",
       "  </thead>\n",
       "  <tbody>\n",
       "    <tr>\n",
       "      <th>0</th>\n",
       "      <td>Sumatra Mountain Brown (Barrel-Aged)</td>\n",
       "      <td>rabbott2</td>\n",
       "      <td>3.50</td>\n",
       "    </tr>\n",
       "    <tr>\n",
       "      <th>1</th>\n",
       "      <td>Sumatra Mountain Brown (Barrel-Aged)</td>\n",
       "      <td>jhavs</td>\n",
       "      <td>4.04</td>\n",
       "    </tr>\n",
       "    <tr>\n",
       "      <th>2</th>\n",
       "      <td>Sumatra Mountain Brown (Barrel-Aged)</td>\n",
       "      <td>lupercmda</td>\n",
       "      <td>4.50</td>\n",
       "    </tr>\n",
       "    <tr>\n",
       "      <th>3</th>\n",
       "      <td>Sumatra Mountain Brown (Barrel-Aged)</td>\n",
       "      <td>Dicers</td>\n",
       "      <td>4.06</td>\n",
       "    </tr>\n",
       "    <tr>\n",
       "      <th>4</th>\n",
       "      <td>Sumatra Mountain Brown (Barrel-Aged)</td>\n",
       "      <td>RAlmeida77</td>\n",
       "      <td>4.49</td>\n",
       "    </tr>\n",
       "  </tbody>\n",
       "</table>\n",
       "</div>"
      ],
      "text/plain": [
       "                               beer_name        user  rating\n",
       "0  Sumatra Mountain Brown (Barrel-Aged)     rabbott2    3.50\n",
       "1  Sumatra Mountain Brown (Barrel-Aged)        jhavs    4.04\n",
       "2  Sumatra Mountain Brown (Barrel-Aged)    lupercmda    4.50\n",
       "3  Sumatra Mountain Brown (Barrel-Aged)       Dicers    4.06\n",
       "4  Sumatra Mountain Brown (Barrel-Aged)   RAlmeida77    4.49"
      ]
     },
     "execution_count": 4,
     "metadata": {},
     "output_type": "execute_result"
    }
   ],
   "source": [
    "user_reviews_df.head()"
   ]
  },
  {
   "cell_type": "code",
   "execution_count": 27,
   "metadata": {},
   "outputs": [
    {
     "data": {
      "text/plain": [
       "' Sausa Weizen'"
      ]
     },
     "execution_count": 27,
     "metadata": {},
     "output_type": "execute_result"
    }
   ],
   "source": [
    "user_reviews_df.iloc[0].beer_name"
   ]
  },
  {
   "cell_type": "code",
   "execution_count": 28,
   "metadata": {},
   "outputs": [
    {
     "data": {
      "text/plain": [
       "' stcules'"
      ]
     },
     "execution_count": 28,
     "metadata": {},
     "output_type": "execute_result"
    }
   ],
   "source": [
    "user_reviews_df.iloc[0].user"
   ]
  },
  {
   "cell_type": "code",
   "execution_count": 8,
   "metadata": {},
   "outputs": [],
   "source": [
    "def remove_space(string):\n",
    "    \"\"\"\n",
    "    to remove space at end of beer name\n",
    "    \"\"\"\n",
    "    try:\n",
    "        assert isinstance(string, str)\n",
    "    except AssertionError:\n",
    "        raise TypeError('Invalid input, this function expects string inputs.')\n",
    "    return string.lstrip()"
   ]
  },
  {
   "cell_type": "code",
   "execution_count": 9,
   "metadata": {},
   "outputs": [],
   "source": [
    "assert remove_space(' test case') == 'test case'"
   ]
  },
  {
   "cell_type": "code",
   "execution_count": 10,
   "metadata": {},
   "outputs": [],
   "source": [
    "user_reviews_df.beer_name = user_reviews_df.beer_name.apply(lambda x: remove_space(x))"
   ]
  },
  {
   "cell_type": "code",
   "execution_count": 10,
   "metadata": {},
   "outputs": [
    {
     "name": "stdout",
     "output_type": "stream",
     "text": [
      "<class 'pandas.core.frame.DataFrame'>\n",
      "Int64Index: 1427301 entries, 0 to 188328\n",
      "Data columns (total 3 columns):\n",
      "beer_name    1427301 non-null object\n",
      "user         1427301 non-null object\n",
      "rating       1427301 non-null float64\n",
      "dtypes: float64(1), object(2)\n",
      "memory usage: 43.6+ MB\n"
     ]
    }
   ],
   "source": [
    "user_reviews_df.info()"
   ]
  },
  {
   "cell_type": "code",
   "execution_count": 32,
   "metadata": {},
   "outputs": [
    {
     "data": {
      "text/plain": [
       "'Sausa Weizen'"
      ]
     },
     "execution_count": 32,
     "metadata": {},
     "output_type": "execute_result"
    }
   ],
   "source": [
    "user_reviews_df.iloc[0].beer_name"
   ]
  },
  {
   "cell_type": "code",
   "execution_count": 33,
   "metadata": {},
   "outputs": [
    {
     "data": {
      "text/html": [
       "<div>\n",
       "<style scoped>\n",
       "    .dataframe tbody tr th:only-of-type {\n",
       "        vertical-align: middle;\n",
       "    }\n",
       "\n",
       "    .dataframe tbody tr th {\n",
       "        vertical-align: top;\n",
       "    }\n",
       "\n",
       "    .dataframe thead th {\n",
       "        text-align: right;\n",
       "    }\n",
       "</style>\n",
       "<table border=\"1\" class=\"dataframe\">\n",
       "  <thead>\n",
       "    <tr style=\"text-align: right;\">\n",
       "      <th></th>\n",
       "      <th>beer_name</th>\n",
       "      <th>rating</th>\n",
       "      <th>user</th>\n",
       "    </tr>\n",
       "  </thead>\n",
       "  <tbody>\n",
       "    <tr>\n",
       "      <th>count</th>\n",
       "      <td>1586614</td>\n",
       "      <td>1586614</td>\n",
       "      <td>1586614</td>\n",
       "    </tr>\n",
       "    <tr>\n",
       "      <th>unique</th>\n",
       "      <td>56857</td>\n",
       "      <td>10</td>\n",
       "      <td>33388</td>\n",
       "    </tr>\n",
       "    <tr>\n",
       "      <th>top</th>\n",
       "      <td>90 Minute IPA</td>\n",
       "      <td>4</td>\n",
       "      <td>northyorksammy</td>\n",
       "    </tr>\n",
       "    <tr>\n",
       "      <th>freq</th>\n",
       "      <td>3290</td>\n",
       "      <td>582764</td>\n",
       "      <td>5817</td>\n",
       "    </tr>\n",
       "  </tbody>\n",
       "</table>\n",
       "</div>"
      ],
      "text/plain": [
       "            beer_name   rating             user\n",
       "count         1586614  1586614          1586614\n",
       "unique          56857       10            33388\n",
       "top     90 Minute IPA        4   northyorksammy\n",
       "freq             3290   582764             5817"
      ]
     },
     "execution_count": 33,
     "metadata": {},
     "output_type": "execute_result"
    }
   ],
   "source": [
    "user_reviews_df.describe()"
   ]
  },
  {
   "cell_type": "markdown",
   "metadata": {},
   "source": [
    "The average rating for these beers are between 4.14 and 5.0. This makes sense since these beers were scraped from \"top 100\" lists across 56 subcategories."
   ]
  },
  {
   "cell_type": "markdown",
   "metadata": {},
   "source": [
    "---\n",
    "\n",
    "Histogram of review counts"
   ]
  },
  {
   "cell_type": "code",
   "execution_count": 11,
   "metadata": {},
   "outputs": [
    {
     "data": {
      "text/plain": [
       "Text(0.5, 1.0, 'Histogram of Review Counts')"
      ]
     },
     "execution_count": 11,
     "metadata": {},
     "output_type": "execute_result"
    },
    {
     "data": {
      "image/png": "[encoded data removed]",
      "text/plain": [
       "<Figure size 432x288 with 2 Axes>"
      ]
     },
     "metadata": {
      "needs_background": "light"
     },
     "output_type": "display_data"
    }
   ],
   "source": [
    "data= user_reviews_df.beer_name.value_counts()\n",
    "\n",
    "# Plotting hist without kde\n",
    "ax = sns.distplot(data, bins=20, kde=False)\n",
    "\n",
    "# Creating another Y axis\n",
    "second_ax = ax.twinx()\n",
    "\n",
    "# Plotting kde without hist on the second Y axis\n",
    "sns.distplot(data, ax=second_ax, kde=True, hist=False)\n",
    "\n",
    "#Removing Y ticks from the second axis\n",
    "second_ax.set_yticks([])\n",
    "\n",
    "# Set labels\n",
    "ax.set_xlabel('Review Counts')\n",
    "ax.set_ylabel('No. Beers')\n",
    "ax.set_title(\"Histogram of Review Counts\")"
   ]
  },
  {
   "cell_type": "code",
   "execution_count": 12,
   "metadata": {},
   "outputs": [],
   "source": [
    "grouped_beers = user_reviews_df.groupby('beer_name')"
   ]
  },
  {
   "cell_type": "code",
   "execution_count": 13,
   "metadata": {},
   "outputs": [
    {
     "data": {
      "text/html": [
       "<div>\n",
       "<style scoped>\n",
       "    .dataframe tbody tr th:only-of-type {\n",
       "        vertical-align: middle;\n",
       "    }\n",
       "\n",
       "    .dataframe tbody tr th {\n",
       "        vertical-align: top;\n",
       "    }\n",
       "\n",
       "    .dataframe thead th {\n",
       "        text-align: right;\n",
       "    }\n",
       "</style>\n",
       "<table border=\"1\" class=\"dataframe\">\n",
       "  <thead>\n",
       "    <tr style=\"text-align: right;\">\n",
       "      <th></th>\n",
       "      <th>rating</th>\n",
       "      <th>user</th>\n",
       "    </tr>\n",
       "  </thead>\n",
       "  <tbody>\n",
       "    <tr>\n",
       "      <th>0.00</th>\n",
       "      <td>1.0</td>\n",
       "      <td>1.0</td>\n",
       "    </tr>\n",
       "    <tr>\n",
       "      <th>0.05</th>\n",
       "      <td>1.0</td>\n",
       "      <td>1.0</td>\n",
       "    </tr>\n",
       "    <tr>\n",
       "      <th>0.10</th>\n",
       "      <td>1.0</td>\n",
       "      <td>1.0</td>\n",
       "    </tr>\n",
       "    <tr>\n",
       "      <th>0.15</th>\n",
       "      <td>1.0</td>\n",
       "      <td>1.0</td>\n",
       "    </tr>\n",
       "    <tr>\n",
       "      <th>0.20</th>\n",
       "      <td>1.0</td>\n",
       "      <td>1.0</td>\n",
       "    </tr>\n",
       "    <tr>\n",
       "      <th>0.25</th>\n",
       "      <td>1.0</td>\n",
       "      <td>1.0</td>\n",
       "    </tr>\n",
       "    <tr>\n",
       "      <th>0.30</th>\n",
       "      <td>1.0</td>\n",
       "      <td>1.0</td>\n",
       "    </tr>\n",
       "    <tr>\n",
       "      <th>0.35</th>\n",
       "      <td>2.0</td>\n",
       "      <td>2.0</td>\n",
       "    </tr>\n",
       "    <tr>\n",
       "      <th>0.40</th>\n",
       "      <td>2.0</td>\n",
       "      <td>2.0</td>\n",
       "    </tr>\n",
       "    <tr>\n",
       "      <th>0.45</th>\n",
       "      <td>2.0</td>\n",
       "      <td>2.0</td>\n",
       "    </tr>\n",
       "    <tr>\n",
       "      <th>0.50</th>\n",
       "      <td>3.0</td>\n",
       "      <td>3.0</td>\n",
       "    </tr>\n",
       "    <tr>\n",
       "      <th>0.55</th>\n",
       "      <td>3.0</td>\n",
       "      <td>3.0</td>\n",
       "    </tr>\n",
       "    <tr>\n",
       "      <th>0.60</th>\n",
       "      <td>4.0</td>\n",
       "      <td>4.0</td>\n",
       "    </tr>\n",
       "    <tr>\n",
       "      <th>0.65</th>\n",
       "      <td>5.0</td>\n",
       "      <td>5.0</td>\n",
       "    </tr>\n",
       "    <tr>\n",
       "      <th>0.70</th>\n",
       "      <td>7.0</td>\n",
       "      <td>7.0</td>\n",
       "    </tr>\n",
       "    <tr>\n",
       "      <th>0.75</th>\n",
       "      <td>9.0</td>\n",
       "      <td>9.0</td>\n",
       "    </tr>\n",
       "    <tr>\n",
       "      <th>0.80</th>\n",
       "      <td>13.0</td>\n",
       "      <td>13.0</td>\n",
       "    </tr>\n",
       "    <tr>\n",
       "      <th>0.85</th>\n",
       "      <td>22.0</td>\n",
       "      <td>22.0</td>\n",
       "    </tr>\n",
       "    <tr>\n",
       "      <th>0.90</th>\n",
       "      <td>43.0</td>\n",
       "      <td>43.0</td>\n",
       "    </tr>\n",
       "    <tr>\n",
       "      <th>0.95</th>\n",
       "      <td>113.0</td>\n",
       "      <td>113.0</td>\n",
       "    </tr>\n",
       "  </tbody>\n",
       "</table>\n",
       "</div>"
      ],
      "text/plain": [
       "      rating   user\n",
       "0.00     1.0    1.0\n",
       "0.05     1.0    1.0\n",
       "0.10     1.0    1.0\n",
       "0.15     1.0    1.0\n",
       "0.20     1.0    1.0\n",
       "0.25     1.0    1.0\n",
       "0.30     1.0    1.0\n",
       "0.35     2.0    2.0\n",
       "0.40     2.0    2.0\n",
       "0.45     2.0    2.0\n",
       "0.50     3.0    3.0\n",
       "0.55     3.0    3.0\n",
       "0.60     4.0    4.0\n",
       "0.65     5.0    5.0\n",
       "0.70     7.0    7.0\n",
       "0.75     9.0    9.0\n",
       "0.80    13.0   13.0\n",
       "0.85    22.0   22.0\n",
       "0.90    43.0   43.0\n",
       "0.95   113.0  113.0"
      ]
     },
     "execution_count": 13,
     "metadata": {},
     "output_type": "execute_result"
    }
   ],
   "source": [
    "grouped_beers.count().sort_values(by='user', ascending = False).quantile(np.arange(0,1,.05))"
   ]
  },
  {
   "cell_type": "markdown",
   "metadata": {},
   "source": [
    "About 80% of the beers have less than 200 rating counts\n",
    "\n",
    "---\n",
    "\n",
    "Now lets look at the quantiles per average ratings"
   ]
  },
  {
   "cell_type": "code",
   "execution_count": 14,
   "metadata": {},
   "outputs": [
    {
     "data": {
      "text/html": [
       "<div>\n",
       "<style scoped>\n",
       "    .dataframe tbody tr th:only-of-type {\n",
       "        vertical-align: middle;\n",
       "    }\n",
       "\n",
       "    .dataframe tbody tr th {\n",
       "        vertical-align: top;\n",
       "    }\n",
       "\n",
       "    .dataframe thead th {\n",
       "        text-align: right;\n",
       "    }\n",
       "</style>\n",
       "<table border=\"1\" class=\"dataframe\">\n",
       "  <thead>\n",
       "    <tr style=\"text-align: right;\">\n",
       "      <th></th>\n",
       "      <th>rating</th>\n",
       "      <th>user</th>\n",
       "    </tr>\n",
       "  </thead>\n",
       "  <tbody>\n",
       "    <tr>\n",
       "      <th>0.00</th>\n",
       "      <td>1.0</td>\n",
       "      <td>1.0</td>\n",
       "    </tr>\n",
       "    <tr>\n",
       "      <th>0.05</th>\n",
       "      <td>1.0</td>\n",
       "      <td>1.0</td>\n",
       "    </tr>\n",
       "    <tr>\n",
       "      <th>0.10</th>\n",
       "      <td>1.0</td>\n",
       "      <td>1.0</td>\n",
       "    </tr>\n",
       "    <tr>\n",
       "      <th>0.15</th>\n",
       "      <td>1.0</td>\n",
       "      <td>1.0</td>\n",
       "    </tr>\n",
       "    <tr>\n",
       "      <th>0.20</th>\n",
       "      <td>1.0</td>\n",
       "      <td>1.0</td>\n",
       "    </tr>\n",
       "    <tr>\n",
       "      <th>0.25</th>\n",
       "      <td>1.0</td>\n",
       "      <td>1.0</td>\n",
       "    </tr>\n",
       "    <tr>\n",
       "      <th>0.30</th>\n",
       "      <td>1.0</td>\n",
       "      <td>1.0</td>\n",
       "    </tr>\n",
       "    <tr>\n",
       "      <th>0.35</th>\n",
       "      <td>2.0</td>\n",
       "      <td>2.0</td>\n",
       "    </tr>\n",
       "    <tr>\n",
       "      <th>0.40</th>\n",
       "      <td>2.0</td>\n",
       "      <td>2.0</td>\n",
       "    </tr>\n",
       "    <tr>\n",
       "      <th>0.45</th>\n",
       "      <td>2.0</td>\n",
       "      <td>2.0</td>\n",
       "    </tr>\n",
       "    <tr>\n",
       "      <th>0.50</th>\n",
       "      <td>3.0</td>\n",
       "      <td>3.0</td>\n",
       "    </tr>\n",
       "    <tr>\n",
       "      <th>0.55</th>\n",
       "      <td>3.0</td>\n",
       "      <td>3.0</td>\n",
       "    </tr>\n",
       "    <tr>\n",
       "      <th>0.60</th>\n",
       "      <td>4.0</td>\n",
       "      <td>4.0</td>\n",
       "    </tr>\n",
       "    <tr>\n",
       "      <th>0.65</th>\n",
       "      <td>5.0</td>\n",
       "      <td>5.0</td>\n",
       "    </tr>\n",
       "    <tr>\n",
       "      <th>0.70</th>\n",
       "      <td>7.0</td>\n",
       "      <td>7.0</td>\n",
       "    </tr>\n",
       "    <tr>\n",
       "      <th>0.75</th>\n",
       "      <td>9.0</td>\n",
       "      <td>9.0</td>\n",
       "    </tr>\n",
       "    <tr>\n",
       "      <th>0.80</th>\n",
       "      <td>13.0</td>\n",
       "      <td>13.0</td>\n",
       "    </tr>\n",
       "    <tr>\n",
       "      <th>0.85</th>\n",
       "      <td>22.0</td>\n",
       "      <td>22.0</td>\n",
       "    </tr>\n",
       "    <tr>\n",
       "      <th>0.90</th>\n",
       "      <td>43.0</td>\n",
       "      <td>43.0</td>\n",
       "    </tr>\n",
       "    <tr>\n",
       "      <th>0.95</th>\n",
       "      <td>113.0</td>\n",
       "      <td>113.0</td>\n",
       "    </tr>\n",
       "  </tbody>\n",
       "</table>\n",
       "</div>"
      ],
      "text/plain": [
       "      rating   user\n",
       "0.00     1.0    1.0\n",
       "0.05     1.0    1.0\n",
       "0.10     1.0    1.0\n",
       "0.15     1.0    1.0\n",
       "0.20     1.0    1.0\n",
       "0.25     1.0    1.0\n",
       "0.30     1.0    1.0\n",
       "0.35     2.0    2.0\n",
       "0.40     2.0    2.0\n",
       "0.45     2.0    2.0\n",
       "0.50     3.0    3.0\n",
       "0.55     3.0    3.0\n",
       "0.60     4.0    4.0\n",
       "0.65     5.0    5.0\n",
       "0.70     7.0    7.0\n",
       "0.75     9.0    9.0\n",
       "0.80    13.0   13.0\n",
       "0.85    22.0   22.0\n",
       "0.90    43.0   43.0\n",
       "0.95   113.0  113.0"
      ]
     },
     "execution_count": 14,
     "metadata": {},
     "output_type": "execute_result"
    }
   ],
   "source": [
    "grouped_beers.count().sort_values(by='rating', ascending = False).quantile(np.arange(0,1,.05))"
   ]
  },
  {
   "cell_type": "code",
   "execution_count": null,
   "metadata": {},
   "outputs": [],
   "source": [
    "avg_rating = user_reviews_df.mean()\n",
    "\n",
    "# I am definining beers with average rating less than 3.5 to be considered subpar \n",
    "# since a 3.5 avg rating would put it in the bottom 10 percentile of these beers\n",
    "subpar_average_mask = avg_rating['rating'] < 3.5\n",
    "subpar_beers_count = len(avg_rating[subpar_average_mask])\n",
    "\n",
    "print('{} beers have a average rating less than 3.5'.format(subpar_beers_count))\n",
    "print('A 3.5 avg rating puts the beer within the bottom 10%-tile')"
   ]
  },
  {
   "cell_type": "code",
   "execution_count": 18,
   "metadata": {},
   "outputs": [],
   "source": [
    "# distribution of the bottom 10% in average rating, and number of rating counts\n",
    "bottom_10percent_rating = grouped_beers.mean().quantile(np.arange(0,.11,.01))\n",
    "bottom_10percent_counts = grouped_beers.count().quantile(np.arange(0,.11,.01))"
   ]
  },
  {
   "cell_type": "code",
   "execution_count": 19,
   "metadata": {},
   "outputs": [
    {
     "data": {
      "text/html": [
       "<div>\n",
       "<style scoped>\n",
       "    .dataframe tbody tr th:only-of-type {\n",
       "        vertical-align: middle;\n",
       "    }\n",
       "\n",
       "    .dataframe tbody tr th {\n",
       "        vertical-align: top;\n",
       "    }\n",
       "\n",
       "    .dataframe thead th {\n",
       "        text-align: right;\n",
       "    }\n",
       "</style>\n",
       "<table border=\"1\" class=\"dataframe\">\n",
       "  <thead>\n",
       "    <tr style=\"text-align: right;\">\n",
       "      <th></th>\n",
       "      <th>rating</th>\n",
       "    </tr>\n",
       "  </thead>\n",
       "  <tbody>\n",
       "    <tr>\n",
       "      <th>0.00</th>\n",
       "      <td>1.411667</td>\n",
       "    </tr>\n",
       "    <tr>\n",
       "      <th>0.01</th>\n",
       "      <td>2.464294</td>\n",
       "    </tr>\n",
       "    <tr>\n",
       "      <th>0.02</th>\n",
       "      <td>2.716124</td>\n",
       "    </tr>\n",
       "    <tr>\n",
       "      <th>0.03</th>\n",
       "      <td>2.896602</td>\n",
       "    </tr>\n",
       "    <tr>\n",
       "      <th>0.04</th>\n",
       "      <td>3.038345</td>\n",
       "    </tr>\n",
       "    <tr>\n",
       "      <th>0.05</th>\n",
       "      <td>3.134533</td>\n",
       "    </tr>\n",
       "    <tr>\n",
       "      <th>0.06</th>\n",
       "      <td>3.224937</td>\n",
       "    </tr>\n",
       "    <tr>\n",
       "      <th>0.07</th>\n",
       "      <td>3.314658</td>\n",
       "    </tr>\n",
       "    <tr>\n",
       "      <th>0.08</th>\n",
       "      <td>3.370548</td>\n",
       "    </tr>\n",
       "    <tr>\n",
       "      <th>0.09</th>\n",
       "      <td>3.433212</td>\n",
       "    </tr>\n",
       "    <tr>\n",
       "      <th>0.10</th>\n",
       "      <td>3.482338</td>\n",
       "    </tr>\n",
       "  </tbody>\n",
       "</table>\n",
       "</div>"
      ],
      "text/plain": [
       "        rating\n",
       "0.00  1.411667\n",
       "0.01  2.464294\n",
       "0.02  2.716124\n",
       "0.03  2.896602\n",
       "0.04  3.038345\n",
       "0.05  3.134533\n",
       "0.06  3.224937\n",
       "0.07  3.314658\n",
       "0.08  3.370548\n",
       "0.09  3.433212\n",
       "0.10  3.482338"
      ]
     },
     "execution_count": 19,
     "metadata": {},
     "output_type": "execute_result"
    }
   ],
   "source": [
    "bottom_10percent_rating"
   ]
  },
  {
   "cell_type": "code",
   "execution_count": 20,
   "metadata": {},
   "outputs": [
    {
     "data": {
      "text/html": [
       "<div>\n",
       "<style scoped>\n",
       "    .dataframe tbody tr th:only-of-type {\n",
       "        vertical-align: middle;\n",
       "    }\n",
       "\n",
       "    .dataframe tbody tr th {\n",
       "        vertical-align: top;\n",
       "    }\n",
       "\n",
       "    .dataframe thead th {\n",
       "        text-align: right;\n",
       "    }\n",
       "</style>\n",
       "<table border=\"1\" class=\"dataframe\">\n",
       "  <thead>\n",
       "    <tr style=\"text-align: right;\">\n",
       "      <th></th>\n",
       "      <th>user</th>\n",
       "      <th>rating</th>\n",
       "    </tr>\n",
       "  </thead>\n",
       "  <tbody>\n",
       "    <tr>\n",
       "      <th>0.00</th>\n",
       "      <td>9.0</td>\n",
       "      <td>9.0</td>\n",
       "    </tr>\n",
       "    <tr>\n",
       "      <th>0.01</th>\n",
       "      <td>9.0</td>\n",
       "      <td>9.0</td>\n",
       "    </tr>\n",
       "    <tr>\n",
       "      <th>0.02</th>\n",
       "      <td>9.0</td>\n",
       "      <td>9.0</td>\n",
       "    </tr>\n",
       "    <tr>\n",
       "      <th>0.03</th>\n",
       "      <td>10.0</td>\n",
       "      <td>10.0</td>\n",
       "    </tr>\n",
       "    <tr>\n",
       "      <th>0.04</th>\n",
       "      <td>10.0</td>\n",
       "      <td>10.0</td>\n",
       "    </tr>\n",
       "    <tr>\n",
       "      <th>0.05</th>\n",
       "      <td>10.0</td>\n",
       "      <td>10.0</td>\n",
       "    </tr>\n",
       "    <tr>\n",
       "      <th>0.06</th>\n",
       "      <td>11.0</td>\n",
       "      <td>11.0</td>\n",
       "    </tr>\n",
       "    <tr>\n",
       "      <th>0.07</th>\n",
       "      <td>11.0</td>\n",
       "      <td>11.0</td>\n",
       "    </tr>\n",
       "    <tr>\n",
       "      <th>0.08</th>\n",
       "      <td>11.0</td>\n",
       "      <td>11.0</td>\n",
       "    </tr>\n",
       "    <tr>\n",
       "      <th>0.09</th>\n",
       "      <td>12.0</td>\n",
       "      <td>12.0</td>\n",
       "    </tr>\n",
       "    <tr>\n",
       "      <th>0.10</th>\n",
       "      <td>12.0</td>\n",
       "      <td>12.0</td>\n",
       "    </tr>\n",
       "  </tbody>\n",
       "</table>\n",
       "</div>"
      ],
      "text/plain": [
       "      user  rating\n",
       "0.00   9.0     9.0\n",
       "0.01   9.0     9.0\n",
       "0.02   9.0     9.0\n",
       "0.03  10.0    10.0\n",
       "0.04  10.0    10.0\n",
       "0.05  10.0    10.0\n",
       "0.06  11.0    11.0\n",
       "0.07  11.0    11.0\n",
       "0.08  11.0    11.0\n",
       "0.09  12.0    12.0\n",
       "0.10  12.0    12.0"
      ]
     },
     "execution_count": 20,
     "metadata": {},
     "output_type": "execute_result"
    }
   ],
   "source": [
    "bottom_10percent_counts"
   ]
  },
  {
   "cell_type": "markdown",
   "metadata": {},
   "source": [
    "The bottom 10%-tile in terms of avg ratings are anywhere from 1.41 to 3.48  \n",
    "The bottom 10%-tile in terms of number of ratings are anywhere from 9 to 12"
   ]
  },
  {
   "cell_type": "markdown",
   "metadata": {},
   "source": [
    "---\n",
    "\n",
    "Now lets take a look at the users"
   ]
  },
  {
   "cell_type": "code",
   "execution_count": 21,
   "metadata": {},
   "outputs": [
    {
     "data": {
      "text/plain": [
       "Text(0.5,1,'Histogram of User Counts')"
      ]
     },
     "execution_count": 21,
     "metadata": {},
     "output_type": "execute_result"
    },
    {
     "data": {
      "image/png": "[encoded data removed]",
      "text/plain": [
       "<Figure size 432x288 with 2 Axes>"
      ]
     },
     "metadata": {},
     "output_type": "display_data"
    }
   ],
   "source": [
    "data2= user_reviews_df.user.value_counts()\n",
    "\n",
    "# Plotting hist without kde\n",
    "ax2 = sns.distplot(data2, kde=False)\n",
    "\n",
    "# Creating another Y axis\n",
    "second_ax2 = ax2.twinx()\n",
    "\n",
    "# Plotting kde without hist on the second Y axis\n",
    "sns.distplot(data2, ax=second_ax2, kde=True, hist=False)\n",
    "\n",
    "#Removing Y ticks from the second axis\n",
    "second_ax2.set_yticks([])\n",
    "\n",
    "# Set labels\n",
    "ax2.set_xlabel('Review Counts')\n",
    "ax2.set_ylabel('No. Users')\n",
    "ax2.set_title(\"Histogram of User Counts\")"
   ]
  },
  {
   "cell_type": "code",
   "execution_count": 22,
   "metadata": {},
   "outputs": [],
   "source": [
    "grouped_users = user_reviews_df.groupby('user')"
   ]
  },
  {
   "cell_type": "code",
   "execution_count": 30,
   "metadata": {},
   "outputs": [
    {
     "name": "stdout",
     "output_type": "stream",
     "text": [
      "31898 users rated 1 or less beers\n",
      "44384 users rated 2 or less beers\n",
      "51242 users rated 3 or less beers\n",
      "55753 users rated 4 or less beers\n",
      "59126 users rated 5 or less beers\n",
      "67935 users rated 10 or less beers\n",
      "72093 users rated 15 or less beers\n",
      "74714 users rated 20 or less beers\n",
      "\n",
      "\n",
      "Total Unique Users in this dataset: 88600\n"
     ]
    }
   ],
   "source": [
    "grouped_users_count = grouped_users.count()\n",
    "\n",
    "counts = [1,2,3,4,5,10,15,20]\n",
    "for ct in counts:\n",
    "    num_users = grouped_users_count[grouped_users_count['rating'] <= ct].count()[0]\n",
    "    print('{} users rated {} or less beers'.format(num_users,ct))\n",
    "\n",
    "print('\\n')\n",
    "print('Total Unique Users in this dataset: {}'.format(len(user_reviews_df.user.unique())))"
   ]
  },
  {
   "cell_type": "markdown",
   "metadata": {},
   "source": [
    "The vast majority of the users rated only a few beers, with more than half of the users having rated less than 5 beers.\n",
    "\n",
    "---\n",
    "\n",
    "<br/>\n",
    "\n",
    "To improve results of the recommender, the beers in the bottom 10 percent in terms of avg rating and review counts will be removed. This will remove about 20% of the beers, bringing the unique beers count from 4964 to 3960.\n",
    "\n",
    "NOTE:\n",
    "When using the Surprise library, the \"shringkage factor\" (for imputing missing ratings) takes into account the number of reviews for each item/user. It punishes the items/users with very little reviews. Therefore this step is not critical."
   ]
  },
  {
   "cell_type": "code",
   "execution_count": 37,
   "metadata": {},
   "outputs": [],
   "source": [
    "subpar_beers_list = list(avg_rating[subpar_average_mask].index)\n",
    "\n",
    "ratings_count = grouped_beers.count()\n",
    "\n",
    "# I am definining beers with ratings count less than 13 to be considered low amount of ratings \n",
    "# since a ratings count of 13 would put it in the bottom 10 percentile\n",
    "low_ratings_count = ratings_count[ratings_count['rating'] < 13]\n",
    "low_ratings_list = list(low_ratings_count.index)"
   ]
  },
  {
   "cell_type": "code",
   "execution_count": 39,
   "metadata": {},
   "outputs": [
    {
     "name": "stdout",
     "output_type": "stream",
     "text": [
      "Number of beers in bottom 10% of avg rating: 518\n",
      "Number of beers in bottom 10% of review counts: 544\n",
      "Number of beers in both of these categories: 56\n"
     ]
    }
   ],
   "source": [
    "unique_subpar_beers = set(subpar_beers_list)\n",
    "unique_low_ratings_beers = set(low_ratings_list)\n",
    "overlaps = unique_subpar_beers.intersection(unique_low_ratings_beers)\n",
    "print('Number of beers in bottom 10% of avg rating: {}'.format(len(unique_subpar_beers)))\n",
    "print('Number of beers in bottom 10% of review counts: {}'.format(len(unique_low_ratings_beers)))\n",
    "print('Number of beers in both of these categories: {}'.format(len(overlaps)))"
   ]
  },
  {
   "cell_type": "code",
   "execution_count": 40,
   "metadata": {},
   "outputs": [],
   "source": [
    "#remove beers in the bottom 10% of both categories\n",
    "df1 = user_reviews_df[~user_reviews_df.beer_name.isin(subpar_beers_list)]\n",
    "df2 = df1[~df1.beer_name.isin(low_ratings_list)]\n",
    "user_reviews_df2 = copy.deepcopy(df2)"
   ]
  },
  {
   "cell_type": "code",
   "execution_count": 41,
   "metadata": {},
   "outputs": [
    {
     "name": "stdout",
     "output_type": "stream",
     "text": [
      "<class 'pandas.core.frame.DataFrame'>\n",
      "Int64Index: 1351367 entries, 0 to 188328\n",
      "Data columns (total 3 columns):\n",
      "beer_name    1351367 non-null object\n",
      "user         1351367 non-null object\n",
      "rating       1351367 non-null float64\n",
      "dtypes: float64(1), object(2)\n",
      "memory usage: 41.2+ MB\n"
     ]
    }
   ],
   "source": [
    "user_reviews_df2.info()"
   ]
  },
  {
   "cell_type": "code",
   "execution_count": 43,
   "metadata": {},
   "outputs": [
    {
     "name": "stdout",
     "output_type": "stream",
     "text": [
      "Original number of unique beers: 4965\n",
      "Revised number of unique beers: 3959\n"
     ]
    }
   ],
   "source": [
    "print('Original number of unique beers: {}'.format(len(user_reviews_df.beer_name.unique())))\n",
    "\n",
    "print('Revised number of unique beers: {}'.format(len(user_reviews_df2.beer_name.unique())))"
   ]
  },
  {
   "cell_type": "markdown",
   "metadata": {},
   "source": [
    "---\n",
    "\n",
    "### Buidling the model with Surprise\n",
    "\n",
    "<br/>\n",
    "\n",
    "\n",
    "**From the Surprise Library Documentation**\n",
    "\n",
    "What are raw and inner ids?\n",
    "Users and items have a raw id and an inner id. Some methods will use/return a raw id (e.g. the predict() method), while some other will use/return an inner id.\n",
    "\n",
    "Raw ids are ids as defined in a rating file or in a pandas dataframe. They can be strings or numbers. Note though that if the ratings were read from a file which is the standard scenario, they are represented as strings. This is important to know if you’re using e.g. predict() or other methods that accept raw ids as parameters.\n",
    "\n",
    "On trainset creation, each raw id is mapped to a unique integer called inner id, which is a lot more suitable for Surprise to manipulate. Conversions between raw and inner ids can be done using the to_inner_uid(), to_inner_iid(), to_raw_uid(), and to_raw_iid() methods of the trainset.\n",
    "\n",
    "---\n",
    "\n",
    "  \n",
    "  \n",
    "_The below code creates raw and inner ids for each beer and user_"
   ]
  },
  {
   "cell_type": "code",
   "execution_count": 54,
   "metadata": {},
   "outputs": [],
   "source": [
    "# create beerID for each beer\n",
    "\n",
    "grouped_name = user_reviews_df2.groupby('beer_name')\n",
    "\n",
    "temp_df = grouped_name.count()\n",
    "temp_df_idx = pd.DataFrame(temp_df.index)\n",
    "\n",
    "\n",
    "temp_df_idx['beerID'] = temp_df_idx.index\n",
    "dict_df=temp_df_idx[['beerID','beer_name']]\n",
    "\n",
    "\n",
    "desc_dict = dict_df.set_index('beer_name').to_dict()\n",
    "new_dict = desc_dict['beerID']\n",
    "\n",
    "user_reviews_df2['beerID'] = user_reviews_df2.beer_name.map(new_dict)\n",
    "\n",
    "\n",
    "\n",
    "# create userID for each user\n",
    "grouped_user = user_reviews_df2.groupby('user')\n",
    "\n",
    "temp_df_user = grouped_user.count()\n",
    "temp_df_user_idx = pd.DataFrame(temp_df_user.index)\n",
    "\n",
    "\n",
    "temp_df_user_idx['userID']=temp_df_user_idx.index\n",
    "dict_df_user=temp_df_user_idx[['userID','user']] \n",
    "\n",
    "\n",
    "desc_dict_user = dict_df_user.set_index('user').to_dict()\n",
    "new_dict_user = desc_dict_user['userID']\n",
    "\n",
    "user_reviews_df2['userID'] = user_reviews_df2.user.map(new_dict_user)"
   ]
  },
  {
   "cell_type": "markdown",
   "metadata": {},
   "source": [
    "---\n",
    "\n",
    "_Below code was taken from Surpirse Library Documentation  and modified_"
   ]
  },
  {
   "cell_type": "code",
   "execution_count": 45,
   "metadata": {},
   "outputs": [],
   "source": [
    "def read_item_names():\n",
    "    \"\"\"\n",
    "    return two mappings to convert raw ids into beer names \n",
    "    and beer names into raw ids.\n",
    "    \"\"\"\n",
    "\n",
    "    file_name = dict_df\n",
    "    rid_to_name = {}\n",
    "    name_to_rid = {}\n",
    "\n",
    "    # there are 3959 unique beers after removing the low rating and review count beers\n",
    "    unique_beers = len(user_reviews_df2.beer_name.unique())\n",
    "    \n",
    "    for i in range(unique_beers):  \n",
    "        line = file_name.iloc[i]\n",
    "        rid_to_name[line[0]] = line[1]\n",
    "        name_to_rid[line[1]] = line[0]\n",
    "\n",
    "    return rid_to_name, name_to_rid"
   ]
  },
  {
   "cell_type": "code",
   "execution_count": 46,
   "metadata": {},
   "outputs": [],
   "source": [
    "def get_rec(beer_name, k_):\n",
    "    \"\"\"\n",
    "    Input Beer name and returns k recommendations\n",
    "    based on item similarity\n",
    "    \n",
    "    Input: String, integer\n",
    "    Output: String\n",
    "    \"\"\"\n",
    "    output = []\n",
    "    \n",
    "    beer = str(beer_name)\n",
    "\n",
    "    # Read the mappings raw id <-> beer name\n",
    "    rid_to_name, name_to_rid = read_item_names()\n",
    "\n",
    "    # Retrieve inner id of the Beer\n",
    "    beer_input_raw_id = name_to_rid[beer]\n",
    "    beer_input_inner_id = algo.trainset.to_inner_iid(beer_input_raw_id)\n",
    "\n",
    "    \n",
    "    K = k_\n",
    "    \n",
    "    # Retrieve inner ids of the nearest neighbors of the Beer\n",
    "    beer_input_neighbors = algo.get_neighbors(beer_input_inner_id, k=K)\n",
    "\n",
    "    \n",
    "    # Convert inner ids of the neighbors into names.\n",
    "    beer_input_neighbors = (algo.trainset.to_raw_iid(inner_id)\n",
    "                                for inner_id in beer_input_neighbors)\n",
    "    beer_input_neighbors = (rid_to_name[rid]\n",
    "                                for rid in beer_input_neighbors)\n",
    "\n",
    "    for beer_ in beer_input_neighbors:\n",
    "        output.append(beer_)\n",
    "        \n",
    "    return output"
   ]
  },
  {
   "cell_type": "markdown",
   "metadata": {},
   "source": [
    "Building the model with Surprise using the KNN Baseline algorithm and Pearson Baseline similarity for item-item comparison. In other words, this recommender system is an item based CF recommender that uses a nearest neighbors appproach as oppose to latent factors (SVD). The Similarity is based on Pearson correlation as oppose to cosine distance or MSD. Please check out the Suprise Library documentation for more information: https://surprise.readthedocs.io/en/stable/"
   ]
  },
  {
   "cell_type": "code",
   "execution_count": 48,
   "metadata": {},
   "outputs": [
    {
     "name": "stdout",
     "output_type": "stream",
     "text": [
      "Estimating biases using als...\n",
      "Computing the pearson_baseline similarity matrix...\n",
      "Done computing similarity matrix.\n"
     ]
    },
    {
     "data": {
      "text/plain": [
       "<surprise.prediction_algorithms.knns.KNNBaseline at 0x1a17069080>"
      ]
     },
     "execution_count": 48,
     "metadata": {},
     "output_type": "execute_result"
    }
   ],
   "source": [
    "# Train the algortihm to compute the similarities between items (item-item collaborative filtering)\n",
    "reader = Reader(rating_scale=(1,5))\n",
    "data = Dataset.load_from_df(user_reviews_df2[['userID', 'beerID', 'rating']], reader)\n",
    "trainset = data.build_full_trainset()\n",
    "sim_options = {'name': 'pearson_baseline', 'user_based': False}\n",
    "algo = KNNBaseline(sim_options=sim_options)\n",
    "algo.fit(trainset)"
   ]
  },
  {
   "cell_type": "code",
   "execution_count": null,
   "metadata": {},
   "outputs": [],
   "source": [
    "# Evaluate the performance using Surprise's evaluation module\n",
    "evaluate(algo, data, measures=['RMSE', 'MAE'])"
   ]
  },
  {
   "cell_type": "code",
   "execution_count": 50,
   "metadata": {},
   "outputs": [
    {
     "data": {
      "text/plain": [
       "['Two Hearted Ale',\n",
       " 'Pliny The Elder',\n",
       " 'Sculpin IPA',\n",
       " 'Heady Topper',\n",
       " 'Hopslam Ale',\n",
       " 'KBS (Kentucky Breakfast Stout)',\n",
       " 'Bourbon County Brand Stout',\n",
       " 'Old Rasputin',\n",
       " 'Enjoy By IPA',\n",
       " 'Prima Pils',\n",
       " 'Zombie Dust',\n",
       " 'Ten FIDY',\n",
       " \"A Little Sumpin' Sumpin' Ale\",\n",
       " 'Weihenstephaner Hefeweissbier',\n",
       " 'Jai Alai IPA',\n",
       " 'Porter',\n",
       " 'Oberon Ale',\n",
       " 'Bourbon County Brand Coffee Stout',\n",
       " 'Victory At Sea - Coffee And Vanilla',\n",
       " 'The Abyss']"
      ]
     },
     "execution_count": 50,
     "metadata": {},
     "output_type": "execute_result"
    }
   ],
   "source": [
    "# top 20 most rated beers\n",
    "grouped_beer_names = user_reviews_df2.groupby('beer_name')\n",
    "grouped_beer_names.count().sort_values(by='user', ascending =False)[0:20].index.tolist()"
   ]
  },
  {
   "cell_type": "code",
   "execution_count": 51,
   "metadata": {},
   "outputs": [
    {
     "data": {
      "text/plain": [
       "['Kentucky Brunch Brand Stout',\n",
       " 'Derivation Blend #9 (Cinnamon/Maple)',\n",
       " 'Elysium',\n",
       " 'Monster Tones',\n",
       " 'It Was All A Dream',\n",
       " 'Double Tapped',\n",
       " 'I Let My Tape Rock',\n",
       " 'Double Shot - Vanilla',\n",
       " 'Barrel-Aged Abraxas',\n",
       " 'Oude Fermier',\n",
       " 'King Julius',\n",
       " 'Marshmallow Handjee',\n",
       " 'Popinski - Bourbon Barrel-Aged - Peanut Butter And Marshmallow',\n",
       " 'King JJJuliusss',\n",
       " \"Hunahpu's Imperial Stout - Double Barrel Aged\",\n",
       " 'Barrel Aged Imperial German Chocolate Cupcake Stout',\n",
       " 'Chemtrailmix (2018)',\n",
       " 'Very Hazy',\n",
       " 'Heady Topper',\n",
       " 'SR-71']"
      ]
     },
     "execution_count": 51,
     "metadata": {},
     "output_type": "execute_result"
    }
   ],
   "source": [
    "# top 20 highest rating beers\n",
    "grouped_beer_names.mean().sort_values(by='rating', ascending =False)[0:20].index.tolist()"
   ]
  },
  {
   "cell_type": "code",
   "execution_count": 57,
   "metadata": {},
   "outputs": [
    {
     "name": "stdout",
     "output_type": "stream",
     "text": [
      "The 20 nearest neighbors of Kentucky Brunch Brand Stout are:\n"
     ]
    },
    {
     "data": {
      "text/plain": [
       "[\"Mornin' Delight\",\n",
       " 'Sweet Action',\n",
       " 'Light Speed',\n",
       " 'Franziskaner Hefe-Weisse',\n",
       " 'Assassin',\n",
       " 'SR-71',\n",
       " 'Grassroots Convivial Suaréz',\n",
       " 'Bu Weisse',\n",
       " \"Hunahpu's Imperial Stout - Double Barrel Aged\",\n",
       " 'Chocolate Rain',\n",
       " 'Framboise Du Fermier',\n",
       " 'Moat Water',\n",
       " 'Dortmunder Gold',\n",
       " 'Coffee And Cigarettes',\n",
       " 'Double Dry Hopped Double Mosaic Dream',\n",
       " 'Cask Strawberry',\n",
       " 'Leffe Blonde',\n",
       " 'Weihenstephaner 1516 Kellerbier',\n",
       " 'Nelson Dry Hopped Fort Point',\n",
       " 'King Sue']"
      ]
     },
     "execution_count": 57,
     "metadata": {},
     "output_type": "execute_result"
    }
   ],
   "source": [
    "print('The 20 nearest neighbors of Kentucky Brunch Brand Stout are:')\n",
    "get_rec('Kentucky Brunch Brand Stout',20)"
   ]
  },
  {
   "cell_type": "code",
   "execution_count": 56,
   "metadata": {},
   "outputs": [
    {
     "name": "stdout",
     "output_type": "stream",
     "text": [
      "The 20 nearest neighbors of Two Hearted Ale are:\n"
     ]
    },
    {
     "data": {
      "text/plain": [
       "['Hopslam Ale',\n",
       " 'Ella',\n",
       " 'Sculpin IPA',\n",
       " 'IPA - Double Dry-Hopped',\n",
       " 'Mocha Marlin',\n",
       " 'Hacker-Pschorr Munchner Kellerbier (Anno 1417)',\n",
       " 'Big Red Coq',\n",
       " 'Hop Program - Beer I',\n",
       " 'Bohemian Pilsner',\n",
       " 'Amber Ale',\n",
       " 'Fathom IPL',\n",
       " 'Weihenstephaner Pils',\n",
       " 'Society & Solitude #6',\n",
       " 'Jai Alai IPA',\n",
       " 'Noble Prize',\n",
       " 'Smokestack Heritage Porter',\n",
       " 'Metric',\n",
       " 'Oberon Ale',\n",
       " 'Fade To Black - Volume 1',\n",
       " 'This Town']"
      ]
     },
     "execution_count": 56,
     "metadata": {},
     "output_type": "execute_result"
    }
   ],
   "source": [
    "print('The 20 nearest neighbors of Two Hearted Ale are:')\n",
    "get_rec('Two Hearted Ale',20)"
   ]
  },
  {
   "cell_type": "code",
   "execution_count": 58,
   "metadata": {},
   "outputs": [],
   "source": [
    "top20rated = user_reviews_df2.groupby('beer_name').count().sort_values(by='user', ascending =False)[0:20].index.tolist()\n",
    "top20rated = set(top20rated)\n",
    "\n",
    "top20rating = user_reviews_df2.groupby('beer_name').mean().sort_values(by='rating', ascending =False)[0:20].index.tolist()\n",
    "top20rating = set(top20rating)\n",
    "\n",
    "kbbs = set(get_rec('Kentucky Brunch Brand Stout',20))\n",
    "tha = set(get_rec('Two Hearted Ale',20))"
   ]
  },
  {
   "cell_type": "code",
   "execution_count": 59,
   "metadata": {},
   "outputs": [
    {
     "name": "stdout",
     "output_type": "stream",
     "text": [
      "set()\n",
      "{'SR-71', \"Hunahpu's Imperial Stout - Double Barrel Aged\"}\n"
     ]
    }
   ],
   "source": [
    "print(kbbs.intersection(top20rated))\n",
    "print(kbbs.intersection(top20rating))"
   ]
  },
  {
   "cell_type": "code",
   "execution_count": 60,
   "metadata": {},
   "outputs": [
    {
     "name": "stdout",
     "output_type": "stream",
     "text": [
      "{'Jai Alai IPA', 'Sculpin IPA', 'Oberon Ale', 'Hopslam Ale'}\n",
      "set()\n"
     ]
    }
   ],
   "source": [
    "print(tha.intersection(top20rated))\n",
    "print(tha.intersection(top20rating))"
   ]
  },
  {
   "cell_type": "markdown",
   "metadata": {},
   "source": [
    "As you can see above, when I inputed the most rated beer (higest review counts), 'Two Hearted Ale', the recommendations only contained four beers that were in the top 20 most rated list. \n",
    "\n",
    "Likewise, when I inputed the highest rating beer (higest average rating), 'Kentucky Brunch Brand Stout', the recommendations only contained 2 beers that were in the top 20 highest ratings list.\n",
    "\n",
    "This is desirable since the goal of collaborative filtering is to find most similar items based on how users rated them, or vice versa, the recommendations should not be giving more of the same beers (in this case, the highest rated beers or the beers with the highest ratings). For best results, a hybrid system that utilizes content-based filtering along with collaborative filtering would be best."
   ]
  },
  {
   "cell_type": "markdown",
   "metadata": {},
   "source": [
    "Testing a couple more:"
   ]
  },
  {
   "cell_type": "code",
   "execution_count": 61,
   "metadata": {},
   "outputs": [],
   "source": [
    "ebi = set(get_rec('Enjoy By IPA',20))\n",
    "mbp = set(get_rec('Maple Bacon Coffee Porter',20))"
   ]
  },
  {
   "cell_type": "code",
   "execution_count": 62,
   "metadata": {},
   "outputs": [
    {
     "name": "stdout",
     "output_type": "stream",
     "text": [
      "{'Sculpin IPA'}\n",
      "set()\n",
      "set()\n",
      "set()\n"
     ]
    }
   ],
   "source": [
    "print(ebi.intersection(top20rated))\n",
    "print(ebi.intersection(top20rating))\n",
    "print(mbp.intersection(top20rated))\n",
    "print(mbp.intersection(top20rating))"
   ]
  },
  {
   "cell_type": "code",
   "execution_count": 63,
   "metadata": {},
   "outputs": [
    {
     "name": "stdout",
     "output_type": "stream",
     "text": [
      "The 20 nearest neighbors of Enjoy By IPA:\n"
     ]
    },
    {
     "data": {
      "text/plain": [
       "{'All Green Everything',\n",
       " 'BFF',\n",
       " 'Black Watch Double Chocolate Milk Stout',\n",
       " 'Blazing World',\n",
       " 'Evil Twin',\n",
       " 'Field To Ferment: Citra',\n",
       " 'G-Bot Double IPA',\n",
       " 'Grapefruit Sculpin',\n",
       " 'Humulus Lager',\n",
       " 'Lunch',\n",
       " 'Ma',\n",
       " 'Nightmare On Brett - Bourbon Barrel',\n",
       " 'Pallet Jack IPA',\n",
       " 'Pataskala Red X IPA',\n",
       " 'Project Dank',\n",
       " 'Sculpin IPA',\n",
       " 'Stone / Chris Banker / Insurgente - Xocoveza',\n",
       " \"Sweet Tat's Breakfast Stout (Underground Series)\",\n",
       " 'Weihenstephaner Hefeweissbier Dunkel',\n",
       " 'Weihenstephaner Pils'}"
      ]
     },
     "execution_count": 63,
     "metadata": {},
     "output_type": "execute_result"
    }
   ],
   "source": [
    "print('The 20 nearest neighbors of Enjoy By IPA:')\n",
    "ebi"
   ]
  },
  {
   "cell_type": "code",
   "execution_count": 64,
   "metadata": {},
   "outputs": [
    {
     "name": "stdout",
     "output_type": "stream",
     "text": [
      "The 20 nearest neighbors of Maple Bacon Coffee Porter:\n"
     ]
    },
    {
     "data": {
      "text/plain": [
       "{'Flora Blueberry/Black Currant/Raspberry',\n",
       " 'Framinghammer - Bourbon Barrel-Aged',\n",
       " 'Fyodor',\n",
       " 'HOPSMACK!',\n",
       " 'Last Snow',\n",
       " 'Lunch',\n",
       " 'Madagascar',\n",
       " 'Morning Wood',\n",
       " 'Mott The Lesser',\n",
       " 'Neapolitan Porter',\n",
       " 'Neumarkter Lammsbräu (Organic) Pilsner',\n",
       " 'Nib Smuggler',\n",
       " 'Single Shot W/ Vanilla Bean',\n",
       " 'Society & Solitude #5',\n",
       " 'Sosus',\n",
       " 'Spencer Trappist Ale',\n",
       " 'The Love Below',\n",
       " 'Tovarish',\n",
       " 'Von Pilsner',\n",
       " \"Wide Awake It's Morning\"}"
      ]
     },
     "execution_count": 64,
     "metadata": {},
     "output_type": "execute_result"
    }
   ],
   "source": [
    "print('The 20 nearest neighbors of Maple Bacon Coffee Porter:')\n",
    "mbp"
   ]
  },
  {
   "cell_type": "markdown",
   "metadata": {},
   "source": [
    "'Enjoy by IPA' is an IPA (Indian Pale Ale) beer. And while the top 20 list for 'Enjoy by IPA' return quite a few other IPAs, there were also stouts and an amber ale among others. \n",
    "\n",
    "The top 20 list for 'Maple Bacon Coffee Porter' return a more varied list with porters, stouts, IPA and other ales, although most of these beers tend to be on the heavier side with a higher alcohol content and full bodied.\n",
    "\n",
    "These are desirable results since we want a recommendation engine to give some variety and not just more of the same."
   ]
  },
  {
   "cell_type": "markdown",
   "metadata": {},
   "source": [
    "---\n",
    "\n",
    "### Building a model with sk-learn: latent factors approach"
   ]
  },
  {
   "cell_type": "markdown",
   "metadata": {},
   "source": [
    "Alternatively, we can use a latent factors approach by using a Truncated SVD. The surprise package also have an algorithm for doing SVD instead of the KNN method, however, it would require some deep dive into the code and making some modification in order to be able to run a truncated SVD. The default SVD module does not allow for a truncated SVD. The reason, why a truncated SVD is needed is because a standard SVD would require too much memory and processing power. Given that we have a matrix of about 5K x 88K, it would not be feasible.\n"
   ]
  },
  {
   "cell_type": "code",
   "execution_count": 65,
   "metadata": {},
   "outputs": [],
   "source": [
    "# create pivot table and make it sparse (impute NANs with 0s)\n",
    "user_reviews_df2_pivot = user_reviews_df2.pivot_table(index='user', columns='beer_name', values='rating').fillna(0)"
   ]
  },
  {
   "cell_type": "code",
   "execution_count": 66,
   "metadata": {},
   "outputs": [
    {
     "name": "stdout",
     "output_type": "stream",
     "text": [
      "<class 'pandas.core.frame.DataFrame'>\n",
      "Index: 85713 entries, --- to zzurn\n",
      "Columns: 3959 entries, #Merica to Štěpán - český Klasický Ležák Světlý\n",
      "dtypes: float64(3959)\n",
      "memory usage: 2.5+ GB\n"
     ]
    }
   ],
   "source": [
    "user_reviews_df2_pivot.info()"
   ]
  },
  {
   "cell_type": "code",
   "execution_count": 67,
   "metadata": {},
   "outputs": [
    {
     "data": {
      "text/plain": [
       "(3959, 85713)"
      ]
     },
     "execution_count": 67,
     "metadata": {},
     "output_type": "execute_result"
    }
   ],
   "source": [
    "T = user_reviews_df2_pivot.values.T\n",
    "T.shape"
   ]
  },
  {
   "cell_type": "markdown",
   "metadata": {},
   "source": [
    "Using explained variance to determine the number of components for this Truncated SVD"
   ]
  },
  {
   "cell_type": "code",
   "execution_count": 68,
   "metadata": {},
   "outputs": [],
   "source": [
    "def exp_var(list_n_components):\n",
    "    '''\n",
    "    input: list of integers\n",
    "    output: list of tuples showing n_components and it's explained variance ratio\n",
    "    '''\n",
    "    \n",
    "    out = []\n",
    "    \n",
    "    for num in list_n_components:\n",
    "        SVD = TruncatedSVD(n_components=num,random_state=num)\n",
    "        SVD.fit_transform(T)\n",
    "        evar = np.sum(SVD.explained_variance_ratio_)\n",
    "        t = (num,evar)\n",
    "        out.append(t)\n",
    "    \n",
    "    return out"
   ]
  },
  {
   "cell_type": "code",
   "execution_count": 69,
   "metadata": {},
   "outputs": [],
   "source": [
    "n_comp = [5,10,20,50,100,200,300]\n",
    "explained_variance = exp_var(n_comp)"
   ]
  },
  {
   "cell_type": "code",
   "execution_count": 70,
   "metadata": {},
   "outputs": [
    {
     "name": "stdout",
     "output_type": "stream",
     "text": [
      "(5, 0.2824486509799812)\n",
      "(10, 0.32795608283752675)\n",
      "(20, 0.3813270995283478)\n",
      "(50, 0.4746928589626328)\n",
      "(100, 0.5665366381144177)\n",
      "(200, 0.674341839123503)\n",
      "(300, 0.7423358460483446)\n"
     ]
    },
    {
     "data": {
      "text/plain": [
       "[None, None, None, None, None, None, None]"
      ]
     },
     "execution_count": 70,
     "metadata": {},
     "output_type": "execute_result"
    }
   ],
   "source": [
    "[print(i) for i in explained_variance]"
   ]
  },
  {
   "cell_type": "code",
   "execution_count": 71,
   "metadata": {},
   "outputs": [
    {
     "data": {
      "text/plain": [
       "<matplotlib.collections.PathCollection at 0x1a1e352a90>"
      ]
     },
     "execution_count": 71,
     "metadata": {},
     "output_type": "execute_result"
    },
    {
     "data": {
      "image/png": "[encoded data removed]",
      "text/plain": [
       "<Figure size 432x288 with 1 Axes>"
      ]
     },
     "metadata": {},
     "output_type": "display_data"
    }
   ],
   "source": [
    "x,y = zip(*explained_variance)\n",
    "plt.scatter(x, y)"
   ]
  },
  {
   "cell_type": "markdown",
   "metadata": {},
   "source": [
    "Based on the above information, I decided to use 200 components for this truncated svd. I believe this is fair given that there is only 3900 unique beers over 56 subcategories, and at 200 components the model captures 2/3 of the explained variance.\n",
    "\n",
    "Each component is a latent feature that a particular beer and user has an affinity to, and given that there is only 3900 beers, you can say that there are 20 (3900 divide by 200) beers per latent factor. \n",
    "\n",
    "Another way to think about this is to think about how many differnt ways you can classify or describe the types of beers that are avaiable. Even within the 56 subcategories, many of these subcategories are very similar to one another, most people probably wouldn't be able to tell the difference. However, these latent factors encapsulate features that are hard to explain. For example, a particular latent factor could be charaterized as \"slightly hoppy + low alcohol content + light bodied + high carbonation\" or a particular subcategory. \n",
    "\n",
    "Therefore, if you think about the different criterias of charterizing beers, they may be:\n",
    "* bitterness/hoppines\n",
    "* sweetness level\n",
    "* carbonation level\n",
    "* nose/aroma \n",
    "* body of the beer\n",
    "\n",
    "Lets say there are 3 levels for each criteria (high,mid,low), then there are 243 combinations (3 to the 5th power) - and that is assuming each criteria is independent of each other which is not the case (hoppy beers tend to have a strong aroma, sweeter beers have a full body). \n",
    "\n",
    "---\n",
    "\n",
    "Create the 200 component Truncated SVD"
   ]
  },
  {
   "cell_type": "code",
   "execution_count": 73,
   "metadata": {},
   "outputs": [
    {
     "data": {
      "text/plain": [
       "(3959, 200)"
      ]
     },
     "execution_count": 73,
     "metadata": {},
     "output_type": "execute_result"
    }
   ],
   "source": [
    "SVD200 = TruncatedSVD(n_components=200,random_state=200)\n",
    "matrix200 = SVD200.fit_transform(T)\n",
    "matrix200.shape"
   ]
  },
  {
   "cell_type": "code",
   "execution_count": 74,
   "metadata": {},
   "outputs": [
    {
     "data": {
      "text/plain": [
       "(3959, 3959)"
      ]
     },
     "execution_count": 74,
     "metadata": {},
     "output_type": "execute_result"
    }
   ],
   "source": [
    "# correlation/similarity matrix\n",
    "corr200 = np.corrcoef(matrix200)\n",
    "corr200.shape"
   ]
  },
  {
   "cell_type": "code",
   "execution_count": 76,
   "metadata": {},
   "outputs": [],
   "source": [
    "# name of all beers\n",
    "beer_rec_names200 = user_reviews_df2_pivot.columns\n",
    "\n",
    "# list of all beer names\n",
    "beer_rec_list200 = list(beer_rec_names200)"
   ]
  },
  {
   "cell_type": "code",
   "execution_count": 77,
   "metadata": {},
   "outputs": [],
   "source": [
    "def svd200_recs(string,n):\n",
    "    \"\"\"\n",
    "    function returns top n recommendations base on input of beer name and n.\n",
    "    \n",
    "    inputs: \n",
    "    string (name of beer) -> string\n",
    "    n (n recommendations) ->  int\n",
    "    \"\"\"\n",
    "    \n",
    "    # get index of beer name from list of all beers in the training data\n",
    "    get_index = beer_rec_list200.index(string)\n",
    "    \n",
    "    # similarity coeff of all other beers w respect to the input beer\n",
    "    similarities = corr200[get_index]\n",
    "    \n",
    "    # create  & popluate list to hold tuples of beer names and their \n",
    "    # respective correlation coeff, sorted in reverse\n",
    "    closest = []    \n",
    "    for idx, coeff in enumerate(similarities):\n",
    "        closest.append((beer_rec_list200[idx],coeff))\n",
    "    \n",
    "    closest.sort(key=lambda x: x[1], reverse=True)\n",
    "    \n",
    "    out = []\n",
    "    \n",
    "    for i in range(1,n+1):\n",
    "        out.append(closest[i][0])\n",
    "    return out"
   ]
  },
  {
   "cell_type": "markdown",
   "metadata": {},
   "source": [
    "Lets get the top 20 recommendations for the same beers we looked at earlier"
   ]
  },
  {
   "cell_type": "code",
   "execution_count": 78,
   "metadata": {},
   "outputs": [
    {
     "data": {
      "text/plain": [
       "['Assassin',\n",
       " 'SR-71',\n",
       " \"Mornin' Delight\",\n",
       " 'Barrel-Aged Abraxas',\n",
       " \"Hunahpu's Imperial Stout - Double Barrel Aged\",\n",
       " 'Barrel-Aged Sump Coffee Stout',\n",
       " 'Beer Geek Vanilla Shake - Bourbon Barrel-Aged',\n",
       " 'Saison Du Fermier',\n",
       " 'Coffee Abraxas',\n",
       " 'Beyond Good And Evil',\n",
       " 'Framboise Du Fermier',\n",
       " 'Barrel-Aged Silhouette',\n",
       " 'Pugachev Royale',\n",
       " 'Marshmallow Handjee',\n",
       " 'Abricot Du Fermier',\n",
       " 'Grande Negro Voodoo Papi - Bourbon Barrel-Aged',\n",
       " 'Maman',\n",
       " 'Speedway Stout - Vietnamese Coffee - Bourbon-Barrel Aged',\n",
       " 'Fundamental Observation',\n",
       " 'DFPF']"
      ]
     },
     "execution_count": 78,
     "metadata": {},
     "output_type": "execute_result"
    }
   ],
   "source": [
    "svd200_recs('Kentucky Brunch Brand Stout',20)"
   ]
  },
  {
   "cell_type": "code",
   "execution_count": 79,
   "metadata": {},
   "outputs": [
    {
     "name": "stdout",
     "output_type": "stream",
     "text": [
      "common beers: {'Framboise Du Fermier', \"Hunahpu's Imperial Stout - Double Barrel Aged\", 'SR-71', \"Mornin' Delight\", 'Assassin'}\n",
      "number of common beers: 5\n"
     ]
    }
   ],
   "source": [
    "# Latent Factors method\n",
    "A = set(svd200_recs('Kentucky Brunch Brand Stout',20))\n",
    "\n",
    "# Neighborhood method\n",
    "B = set(get_rec('Kentucky Brunch Brand Stout',20))\n",
    "\n",
    "print('common beers: {}'.format(A.intersection(B)))\n",
    "print('number of common beers: {}'.format(len(A.intersection(B))))"
   ]
  },
  {
   "cell_type": "code",
   "execution_count": 80,
   "metadata": {},
   "outputs": [
    {
     "data": {
      "text/plain": [
       "['Hopslam Ale',\n",
       " 'Oberon Ale',\n",
       " 'Sculpin IPA',\n",
       " 'Enjoy By IPA',\n",
       " 'Ten FIDY',\n",
       " 'Jai Alai IPA',\n",
       " 'KBS (Kentucky Breakfast Stout)',\n",
       " 'Old Rasputin',\n",
       " 'Porter',\n",
       " 'Alpha King',\n",
       " 'Bourbon County Brand Stout',\n",
       " 'Edmund Fitzgerald Porter',\n",
       " 'Harvest Ale',\n",
       " \"A Little Sumpin' Sumpin' Ale\",\n",
       " 'Gumballhead',\n",
       " 'Victory At Sea - Coffee And Vanilla',\n",
       " 'Dreadnaught IPA',\n",
       " 'Furious',\n",
       " 'Zombie Dust',\n",
       " 'Pliny The Elder']"
      ]
     },
     "execution_count": 80,
     "metadata": {},
     "output_type": "execute_result"
    }
   ],
   "source": [
    "svd200_recs('Two Hearted Ale',20)"
   ]
  },
  {
   "cell_type": "code",
   "execution_count": 81,
   "metadata": {},
   "outputs": [
    {
     "name": "stdout",
     "output_type": "stream",
     "text": [
      "common beers: {'Jai Alai IPA', 'Sculpin IPA', 'Oberon Ale', 'Hopslam Ale'}\n",
      "number of common beers: 4\n"
     ]
    }
   ],
   "source": [
    "A = set(svd200_recs('Two Hearted Ale',20))\n",
    "B = set(get_rec('Two Hearted Ale',20))\n",
    "print('common beers: {}'.format(A.intersection(B)))\n",
    "print('number of common beers: {}'.format(len(A.intersection(B))))"
   ]
  },
  {
   "cell_type": "code",
   "execution_count": 82,
   "metadata": {},
   "outputs": [
    {
     "name": "stdout",
     "output_type": "stream",
     "text": [
      "common beers: {'Sculpin IPA', 'Lunch', 'Grapefruit Sculpin'}\n",
      "number of common beers: 3\n"
     ]
    }
   ],
   "source": [
    "A = set(svd200_recs('Enjoy By IPA',20))\n",
    "B = set(get_rec('Enjoy By IPA',20))\n",
    "print('common beers: {}'.format(A.intersection(B)))\n",
    "print('number of common beers: {}'.format(len(A.intersection(B))))"
   ]
  },
  {
   "cell_type": "code",
   "execution_count": 83,
   "metadata": {},
   "outputs": [
    {
     "name": "stdout",
     "output_type": "stream",
     "text": [
      "common beers: {'Acerbic Ecstasy', 'Moe Beer'}\n",
      "number of common beers: 2\n"
     ]
    }
   ],
   "source": [
    "A = set(svd200_recs('Elysium',20))\n",
    "B = set(get_rec('Elysium',20))\n",
    "print('common beers: {}'.format(A.intersection(B)))\n",
    "print('number of common beers: {}'.format(len(A.intersection(B))))"
   ]
  },
  {
   "cell_type": "markdown",
   "metadata": {},
   "source": [
    "#### Comparing the two different Method: LF vs KNN"
   ]
  },
  {
   "cell_type": "code",
   "execution_count": 84,
   "metadata": {},
   "outputs": [],
   "source": [
    "def compare_recs(name_list,n):\n",
    "\n",
    "    '''\n",
    "    inputs: \n",
    "    name_list(list of beer names) -> list\n",
    "    n (number of recommendations) -> integer\n",
    "    \n",
    "    output: \n",
    "    graph showing the number of common beers between two different CF methods for each of the input beer\n",
    "    \n",
    "    '''\n",
    "    results = []\n",
    "    \n",
    "    for idx, name in enumerate(name_list):\n",
    "        svd = set(svd200_recs(name,n))\n",
    "        knn = set(get_rec(name,n))\n",
    "        common = len(svd.intersection(knn))\n",
    "        tup = (idx, common)\n",
    "        results.append(tup)\n",
    "    \n",
    "    x,y = zip(*results)\n",
    "    plt.scatter(x, y)\n",
    "    plt.xlabel('Beer No.')\n",
    "    plt.ylabel('Common Recs')\n",
    "    plt.show()"
   ]
  },
  {
   "cell_type": "code",
   "execution_count": 85,
   "metadata": {},
   "outputs": [],
   "source": [
    "# select every 40 beers from highest avg rating to lowest avg rating\n",
    "grouped = user_reviews_df2.groupby('beer_name')\n",
    "namelist = grouped.mean().sort_values(by='rating', ascending =False)[::40].index.tolist()"
   ]
  },
  {
   "cell_type": "code",
   "execution_count": 86,
   "metadata": {},
   "outputs": [
    {
     "data": {
      "image/png": "[encoded data removed]",
      "text/plain": [
       "<Figure size 432x288 with 1 Axes>"
      ]
     },
     "metadata": {},
     "output_type": "display_data"
    }
   ],
   "source": [
    "compare_recs(namelist,50)"
   ]
  },
  {
   "cell_type": "markdown",
   "metadata": {},
   "source": [
    "The above graph shows the number of common closest beers or top recommendations from both the SVD and the nearest neighbors models for a sample of 99 beers (ranging from highest ratings to lowest ratings). As you can see, for the top 50 closest beers, the amount of overlap between the two methods ranges from 0 to 20 which translates to 0-40%. So the two different methods returns very different results and this is expected because a SVD captures relationships that the a nearest neighbor approach does not.  "
   ]
  },
  {
   "cell_type": "markdown",
   "metadata": {},
   "source": [
    "---\n",
    "\n",
    "**Conclusion:**\n",
    "\n",
    "Building a collaborative filtering recommender system can be quite simple. The Surprise Library is a great module to use. You can use a neighbors appraoch (KNN) or a latent factors approach (SVD). Both methods may yield very differnt results, however, this may actually be a good thing as you can combine both results to create a hybrid recommeder system. Collaborative filtering is great if you want your recommendation engine to provide diverse or varied results. Otherwise you can just use a content-based recommender, which in this case would recommend mostly beers within the same subcategory. Combining results from two or all three (content-based, KNN, SVD) would probably be your best bet.  "
   ]
  },
  {
   "cell_type": "code",
   "execution_count": null,
   "metadata": {},
   "outputs": [],
   "source": []
  }
 ],
 "metadata": {
  "kernelspec": {
   "display_name": "Python 3 (ipykernel)",
   "language": "python",
   "name": "python3"
  },
  "language_info": {
   "codemirror_mode": {
    "name": "ipython",
    "version": 3
   },
   "file_extension": ".py",
   "mimetype": "text/x-python",
   "name": "python",
   "nbconvert_exporter": "python",
   "pygments_lexer": "ipython3",
   "version": "3.7.11"
  }
 },
 "nbformat": 4,
 "nbformat_minor": 2
}
